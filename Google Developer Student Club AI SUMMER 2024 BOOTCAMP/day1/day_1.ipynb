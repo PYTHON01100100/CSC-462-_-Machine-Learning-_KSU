{
 "cells": [
  {
   "cell_type": "markdown",
   "id": "81ec2d49",
   "metadata": {},
   "source": [
    "# ### Types of Data\n",
    "\n",
    "1. **Numerical Data (Quantitative)**\n",
    "   - **Integer (int):** Whole numbers without a fractional part (e.g., 1, 42, -7).\n",
    "   - **Float (float):** Numbers with a fractional part (e.g., 3.14, -2.7).\n",
    "\n",
    "2. **Boolean Data**\n",
    "   - Represents binary values (True/False).\n",
    "\n",
    "3. **Text Data (String)**\n",
    "   - Sequence of characters (e.g., names, addresses).\n",
    "\n",
    "4. **Date and Time Data (Datetime)**\n",
    "   - Represents dates and times (e.g., 2023-01-01, 14:30:00).\n",
    "\n",
    "**Data Types in Pandas:**\n",
    "- **int64:** Integer data type.\n",
    "- **float64:** Floating-point data type.\n",
    "- **object:** General data type for strings and mixed types.\n",
    "- **bool:** Boolean data type.\n",
    "- **datetime64:** Date and time data type. \n",
    "\n",
    "Choosing the appropriate data type is essential for efficient storage and accurate computations in data analysis and machine learning."
   ]
  },
  {
   "cell_type": "markdown",
   "id": "7376e307",
   "metadata": {},
   "source": [
    "# ### Pandas Library\n",
    "\n",
    "**Pandas** is essential for machine learning and AI due to its powerful data manipulation and analysis capabilities.\n",
    "\n",
    "**Key Features:**\n",
    "1. **DataFrames and Series:** Provides flexible and powerful data structures for handling structured data.\n",
    "2. **Data Manipulation:** Offers extensive functions for data cleaning, transformation, and analysis.\n",
    "3. **Handling Missing Data:** Efficiently manages and fills missing data in datasets.\n",
    "4. **Integration:** Seamlessly integrates with other libraries like NumPy and Matplotlib.\n",
    "\n",
    "**Benefits for ML and AI:**\n",
    "- **Data Preparation:** Simplifies data preprocessing and feature engineering.\n",
    "- **Convenience:** Provides easy-to-use data structures and functions.\n",
    "- **Efficiency:** Enhances performance for data handling and analysis tasks.\n",
    "\n",
    "Pandas is a foundational tool in machine learning and AI for efficient data preparation and analysis."
   ]
  },
  {
   "cell_type": "code",
   "execution_count": 1,
   "id": "28fe7701",
   "metadata": {},
   "outputs": [
    {
     "name": "stdout",
     "output_type": "stream",
     "text": [
      "Defaulting to user installation because normal site-packages is not writeable\n",
      "Requirement already satisfied: pandas in c:\\users\\suaiman ureiga\\appdata\\roaming\\python\\python311\\site-packages (2.2.0)\n",
      "Requirement already satisfied: numpy<2,>=1.23.2 in c:\\users\\suaiman ureiga\\appdata\\roaming\\python\\python311\\site-packages (from pandas) (1.26.4)\n",
      "Requirement already satisfied: python-dateutil>=2.8.2 in c:\\users\\suaiman ureiga\\appdata\\roaming\\python\\python311\\site-packages (from pandas) (2.8.2)\n",
      "Requirement already satisfied: pytz>=2020.1 in c:\\programdata\\anaconda3\\lib\\site-packages (from pandas) (2023.3.post1)\n",
      "Requirement already satisfied: tzdata>=2022.7 in c:\\programdata\\anaconda3\\lib\\site-packages (from pandas) (2023.3)\n",
      "Requirement already satisfied: six>=1.5 in c:\\users\\suaiman ureiga\\appdata\\roaming\\python\\python311\\site-packages (from python-dateutil>=2.8.2->pandas) (1.16.0)\n"
     ]
    }
   ],
   "source": [
    "!pip install pandas\n"
   ]
  },
  {
   "cell_type": "code",
   "execution_count": 2,
   "id": "57bb077a",
   "metadata": {},
   "outputs": [],
   "source": [
    "import pandas as pd  # Importing pandas for data manipulation and analysis\n",
    "\n"
   ]
  },
  {
   "cell_type": "code",
   "execution_count": 3,
   "id": "6e912739",
   "metadata": {},
   "outputs": [
    {
     "data": {
      "text/plain": [
       "{'Name': ['Alice', 'Bob', 'Charlie'],\n",
       " 'Age': [25, 30, 35],\n",
       " 'City': ['New York', 'Los Angeles', 'Chicago']}"
      ]
     },
     "execution_count": 3,
     "metadata": {},
     "output_type": "execute_result"
    }
   ],
   "source": [
    "# Creating a DataFrame from a dictionary\n",
    "data = {\n",
    "    \"Name\": [\"Alice\", \"Bob\", \"Charlie\"],  # List of names\n",
    "    \"Age\": [25, 30, 35],  # List of ages\n",
    "    \"City\": [\"New York\", \"Los Angeles\", \"Chicago\"]  # List of cities\n",
    "}\n",
    "\n",
    "data  # The dictionary containing the data\n",
    "\n"
   ]
  },
  {
   "cell_type": "code",
   "execution_count": 4,
   "id": "fef15699",
   "metadata": {},
   "outputs": [
    {
     "name": "stdout",
     "output_type": "stream",
     "text": [
      "Pandas DataFrame:\n"
     ]
    },
    {
     "data": {
      "text/html": [
       "<div>\n",
       "<style scoped>\n",
       "    .dataframe tbody tr th:only-of-type {\n",
       "        vertical-align: middle;\n",
       "    }\n",
       "\n",
       "    .dataframe tbody tr th {\n",
       "        vertical-align: top;\n",
       "    }\n",
       "\n",
       "    .dataframe thead th {\n",
       "        text-align: right;\n",
       "    }\n",
       "</style>\n",
       "<table border=\"1\" class=\"dataframe\">\n",
       "  <thead>\n",
       "    <tr style=\"text-align: right;\">\n",
       "      <th></th>\n",
       "      <th>Name</th>\n",
       "      <th>Age</th>\n",
       "      <th>City</th>\n",
       "    </tr>\n",
       "  </thead>\n",
       "  <tbody>\n",
       "    <tr>\n",
       "      <th>0</th>\n",
       "      <td>Alice</td>\n",
       "      <td>25</td>\n",
       "      <td>New York</td>\n",
       "    </tr>\n",
       "    <tr>\n",
       "      <th>1</th>\n",
       "      <td>Bob</td>\n",
       "      <td>30</td>\n",
       "      <td>Los Angeles</td>\n",
       "    </tr>\n",
       "    <tr>\n",
       "      <th>2</th>\n",
       "      <td>Charlie</td>\n",
       "      <td>35</td>\n",
       "      <td>Chicago</td>\n",
       "    </tr>\n",
       "  </tbody>\n",
       "</table>\n",
       "</div>"
      ],
      "text/plain": [
       "      Name  Age         City\n",
       "0    Alice   25     New York\n",
       "1      Bob   30  Los Angeles\n",
       "2  Charlie   35      Chicago"
      ]
     },
     "execution_count": 4,
     "metadata": {},
     "output_type": "execute_result"
    }
   ],
   "source": [
    "df = pd.DataFrame(data)  # Converting the dictionary to a pandas DataFrame\n",
    "\n",
    "# Displaying the DataFrame\n",
    "print(\"Pandas DataFrame:\")  # Print a label for the output\n",
    "df  # Print the DataFrame\n"
   ]
  },
  {
   "cell_type": "code",
   "execution_count": 5,
   "id": "90376e39",
   "metadata": {},
   "outputs": [
    {
     "data": {
      "text/html": [
       "<div>\n",
       "<style scoped>\n",
       "    .dataframe tbody tr th:only-of-type {\n",
       "        vertical-align: middle;\n",
       "    }\n",
       "\n",
       "    .dataframe tbody tr th {\n",
       "        vertical-align: top;\n",
       "    }\n",
       "\n",
       "    .dataframe thead th {\n",
       "        text-align: right;\n",
       "    }\n",
       "</style>\n",
       "<table border=\"1\" class=\"dataframe\">\n",
       "  <thead>\n",
       "    <tr style=\"text-align: right;\">\n",
       "      <th></th>\n",
       "      <th>Age</th>\n",
       "    </tr>\n",
       "  </thead>\n",
       "  <tbody>\n",
       "    <tr>\n",
       "      <th>0</th>\n",
       "      <td>25</td>\n",
       "    </tr>\n",
       "    <tr>\n",
       "      <th>1</th>\n",
       "      <td>30</td>\n",
       "    </tr>\n",
       "    <tr>\n",
       "      <th>2</th>\n",
       "      <td>35</td>\n",
       "    </tr>\n",
       "  </tbody>\n",
       "</table>\n",
       "</div>"
      ],
      "text/plain": [
       "   Age\n",
       "0   25\n",
       "1   30\n",
       "2   35"
      ]
     },
     "execution_count": 5,
     "metadata": {},
     "output_type": "execute_result"
    }
   ],
   "source": [
    "# Selecting Columns:\n",
    "ages = pd.DataFrame(df[\"Age\"])  # Extracting the 'Age' column and converting it to a new DataFrame\n",
    "ages  # Displaying the new DataFrame containing only the 'Age' column\n",
    "\n"
   ]
  },
  {
   "cell_type": "code",
   "execution_count": 6,
   "id": "7e0ad5b3",
   "metadata": {},
   "outputs": [
    {
     "data": {
      "text/html": [
       "<div>\n",
       "<style scoped>\n",
       "    .dataframe tbody tr th:only-of-type {\n",
       "        vertical-align: middle;\n",
       "    }\n",
       "\n",
       "    .dataframe tbody tr th {\n",
       "        vertical-align: top;\n",
       "    }\n",
       "\n",
       "    .dataframe thead th {\n",
       "        text-align: right;\n",
       "    }\n",
       "</style>\n",
       "<table border=\"1\" class=\"dataframe\">\n",
       "  <thead>\n",
       "    <tr style=\"text-align: right;\">\n",
       "      <th></th>\n",
       "      <th>Name</th>\n",
       "      <th>Age</th>\n",
       "      <th>City</th>\n",
       "    </tr>\n",
       "  </thead>\n",
       "  <tbody>\n",
       "    <tr>\n",
       "      <th>1</th>\n",
       "      <td>Bob</td>\n",
       "      <td>30</td>\n",
       "      <td>Los Angeles</td>\n",
       "    </tr>\n",
       "    <tr>\n",
       "      <th>2</th>\n",
       "      <td>Charlie</td>\n",
       "      <td>35</td>\n",
       "      <td>Chicago</td>\n",
       "    </tr>\n",
       "  </tbody>\n",
       "</table>\n",
       "</div>"
      ],
      "text/plain": [
       "      Name  Age         City\n",
       "1      Bob   30  Los Angeles\n",
       "2  Charlie   35      Chicago"
      ]
     },
     "execution_count": 6,
     "metadata": {},
     "output_type": "execute_result"
    }
   ],
   "source": [
    "# Filtering rows based on a condition\n",
    "age_above_28 = pd.DataFrame(df[df[\"Age\"] > 28])  # Creating a new DataFrame with rows where 'Age' is greater than 28\n",
    "age_above_28  # Displaying the filtered DataFrame\n",
    "\n"
   ]
  },
  {
   "cell_type": "code",
   "execution_count": 7,
   "id": "1f891452",
   "metadata": {},
   "outputs": [
    {
     "name": "stdout",
     "output_type": "stream",
     "text": [
      "DataFrame with new column:\n",
      "\n"
     ]
    },
    {
     "data": {
      "text/html": [
       "<div>\n",
       "<style scoped>\n",
       "    .dataframe tbody tr th:only-of-type {\n",
       "        vertical-align: middle;\n",
       "    }\n",
       "\n",
       "    .dataframe tbody tr th {\n",
       "        vertical-align: top;\n",
       "    }\n",
       "\n",
       "    .dataframe thead th {\n",
       "        text-align: right;\n",
       "    }\n",
       "</style>\n",
       "<table border=\"1\" class=\"dataframe\">\n",
       "  <thead>\n",
       "    <tr style=\"text-align: right;\">\n",
       "      <th></th>\n",
       "      <th>Name</th>\n",
       "      <th>Age</th>\n",
       "      <th>City</th>\n",
       "      <th>Occupation</th>\n",
       "    </tr>\n",
       "  </thead>\n",
       "  <tbody>\n",
       "    <tr>\n",
       "      <th>0</th>\n",
       "      <td>Alice</td>\n",
       "      <td>25</td>\n",
       "      <td>New York</td>\n",
       "      <td>Engineer</td>\n",
       "    </tr>\n",
       "    <tr>\n",
       "      <th>1</th>\n",
       "      <td>Bob</td>\n",
       "      <td>30</td>\n",
       "      <td>Los Angeles</td>\n",
       "      <td>Doctor</td>\n",
       "    </tr>\n",
       "    <tr>\n",
       "      <th>2</th>\n",
       "      <td>Charlie</td>\n",
       "      <td>35</td>\n",
       "      <td>Chicago</td>\n",
       "      <td>Artist</td>\n",
       "    </tr>\n",
       "  </tbody>\n",
       "</table>\n",
       "</div>"
      ],
      "text/plain": [
       "      Name  Age         City Occupation\n",
       "0    Alice   25     New York   Engineer\n",
       "1      Bob   30  Los Angeles     Doctor\n",
       "2  Charlie   35      Chicago     Artist"
      ]
     },
     "execution_count": 7,
     "metadata": {},
     "output_type": "execute_result"
    }
   ],
   "source": [
    "# Adding a new column\n",
    "df[\"Occupation\"] = [\"Engineer\", \"Doctor\", \"Artist\"]  # Adding an 'Occupation' column to the DataFrame\n",
    "print(\"DataFrame with new column:\\n\")  # Print a label for the output\n",
    "df  # Displaying the updated DataFrame with the new column\n"
   ]
  },
  {
   "cell_type": "code",
   "execution_count": 8,
   "id": "99ef3c37",
   "metadata": {},
   "outputs": [
    {
     "name": "stdout",
     "output_type": "stream",
     "text": [
      "DataFrame with modified Age:\n",
      "\n"
     ]
    },
    {
     "data": {
      "text/html": [
       "<div>\n",
       "<style scoped>\n",
       "    .dataframe tbody tr th:only-of-type {\n",
       "        vertical-align: middle;\n",
       "    }\n",
       "\n",
       "    .dataframe tbody tr th {\n",
       "        vertical-align: top;\n",
       "    }\n",
       "\n",
       "    .dataframe thead th {\n",
       "        text-align: right;\n",
       "    }\n",
       "</style>\n",
       "<table border=\"1\" class=\"dataframe\">\n",
       "  <thead>\n",
       "    <tr style=\"text-align: right;\">\n",
       "      <th></th>\n",
       "      <th>Name</th>\n",
       "      <th>Age</th>\n",
       "      <th>City</th>\n",
       "      <th>Occupation</th>\n",
       "    </tr>\n",
       "  </thead>\n",
       "  <tbody>\n",
       "    <tr>\n",
       "      <th>0</th>\n",
       "      <td>Alice</td>\n",
       "      <td>26</td>\n",
       "      <td>New York</td>\n",
       "      <td>Engineer</td>\n",
       "    </tr>\n",
       "    <tr>\n",
       "      <th>1</th>\n",
       "      <td>Bob</td>\n",
       "      <td>31</td>\n",
       "      <td>Los Angeles</td>\n",
       "      <td>Doctor</td>\n",
       "    </tr>\n",
       "    <tr>\n",
       "      <th>2</th>\n",
       "      <td>Charlie</td>\n",
       "      <td>36</td>\n",
       "      <td>Chicago</td>\n",
       "      <td>Artist</td>\n",
       "    </tr>\n",
       "  </tbody>\n",
       "</table>\n",
       "</div>"
      ],
      "text/plain": [
       "      Name  Age         City Occupation\n",
       "0    Alice   26     New York   Engineer\n",
       "1      Bob   31  Los Angeles     Doctor\n",
       "2  Charlie   36      Chicago     Artist"
      ]
     },
     "execution_count": 8,
     "metadata": {},
     "output_type": "execute_result"
    }
   ],
   "source": [
    "# Modifying an existing column\n",
    "df[\"Age\"] = df[\"Age\"] + 1  # Incrementing each value in the 'Age' column by 1\n",
    "print(\"DataFrame with modified Age:\\n\")  # Print a label for the output\n",
    "df  # Displaying the DataFrame with the modified 'Age' column\n"
   ]
  },
  {
   "cell_type": "code",
   "execution_count": 9,
   "id": "8e2563a8",
   "metadata": {},
   "outputs": [
    {
     "name": "stdout",
     "output_type": "stream",
     "text": [
      "DataFrame with missing values:\n",
      "\n"
     ]
    },
    {
     "data": {
      "text/html": [
       "<div>\n",
       "<style scoped>\n",
       "    .dataframe tbody tr th:only-of-type {\n",
       "        vertical-align: middle;\n",
       "    }\n",
       "\n",
       "    .dataframe tbody tr th {\n",
       "        vertical-align: top;\n",
       "    }\n",
       "\n",
       "    .dataframe thead th {\n",
       "        text-align: right;\n",
       "    }\n",
       "</style>\n",
       "<table border=\"1\" class=\"dataframe\">\n",
       "  <thead>\n",
       "    <tr style=\"text-align: right;\">\n",
       "      <th></th>\n",
       "      <th>Name</th>\n",
       "      <th>Age</th>\n",
       "      <th>City</th>\n",
       "    </tr>\n",
       "  </thead>\n",
       "  <tbody>\n",
       "    <tr>\n",
       "      <th>0</th>\n",
       "      <td>Alice</td>\n",
       "      <td>25.0</td>\n",
       "      <td>New York</td>\n",
       "    </tr>\n",
       "    <tr>\n",
       "      <th>1</th>\n",
       "      <td>Bob</td>\n",
       "      <td>NaN</td>\n",
       "      <td>Los Angeles</td>\n",
       "    </tr>\n",
       "    <tr>\n",
       "      <th>2</th>\n",
       "      <td>None</td>\n",
       "      <td>35.0</td>\n",
       "      <td>None</td>\n",
       "    </tr>\n",
       "  </tbody>\n",
       "</table>\n",
       "</div>"
      ],
      "text/plain": [
       "    Name   Age         City\n",
       "0  Alice  25.0     New York\n",
       "1    Bob   NaN  Los Angeles\n",
       "2   None  35.0         None"
      ]
     },
     "execution_count": 9,
     "metadata": {},
     "output_type": "execute_result"
    }
   ],
   "source": [
    "# Creating a DataFrame with missing values\n",
    "data_with_nan = {\n",
    "    \"Name\": [\"Alice\", \"Bob\", None],  # 'Name' column with a missing value\n",
    "    \"Age\": [25, None, 35],  # 'Age' column with a missing value\n",
    "    \"City\": [\"New York\", \"Los Angeles\", None]  # 'City' column with a missing value\n",
    "}\n",
    "df_nan = pd.DataFrame(data_with_nan)  # Converting the dictionary to a pandas DataFrame\n",
    "print(\"DataFrame with missing values:\\n\")  # Print a label for the output\n",
    "df_nan  # Displaying the DataFrame with missing values\n"
   ]
  },
  {
   "cell_type": "code",
   "execution_count": 10,
   "id": "4e6d53bb",
   "metadata": {},
   "outputs": [
    {
     "name": "stdout",
     "output_type": "stream",
     "text": [
      "DataFrame with filled missing values:\n",
      "\n"
     ]
    },
    {
     "data": {
      "text/html": [
       "<div>\n",
       "<style scoped>\n",
       "    .dataframe tbody tr th:only-of-type {\n",
       "        vertical-align: middle;\n",
       "    }\n",
       "\n",
       "    .dataframe tbody tr th {\n",
       "        vertical-align: top;\n",
       "    }\n",
       "\n",
       "    .dataframe thead th {\n",
       "        text-align: right;\n",
       "    }\n",
       "</style>\n",
       "<table border=\"1\" class=\"dataframe\">\n",
       "  <thead>\n",
       "    <tr style=\"text-align: right;\">\n",
       "      <th></th>\n",
       "      <th>Name</th>\n",
       "      <th>Age</th>\n",
       "      <th>City</th>\n",
       "    </tr>\n",
       "  </thead>\n",
       "  <tbody>\n",
       "    <tr>\n",
       "      <th>0</th>\n",
       "      <td>Alice</td>\n",
       "      <td>25.0</td>\n",
       "      <td>New York</td>\n",
       "    </tr>\n",
       "    <tr>\n",
       "      <th>1</th>\n",
       "      <td>Bob</td>\n",
       "      <td>Unknown</td>\n",
       "      <td>Los Angeles</td>\n",
       "    </tr>\n",
       "    <tr>\n",
       "      <th>2</th>\n",
       "      <td>Unknown</td>\n",
       "      <td>35.0</td>\n",
       "      <td>Unknown</td>\n",
       "    </tr>\n",
       "  </tbody>\n",
       "</table>\n",
       "</div>"
      ],
      "text/plain": [
       "      Name      Age         City\n",
       "0    Alice     25.0     New York\n",
       "1      Bob  Unknown  Los Angeles\n",
       "2  Unknown     35.0      Unknown"
      ]
     },
     "execution_count": 10,
     "metadata": {},
     "output_type": "execute_result"
    }
   ],
   "source": [
    "# Filling missing values\n",
    "df_filled = df_nan.fillna(\"Unknown\")  # Filling missing values with \"Unknown\"\n",
    "print(\"DataFrame with filled missing values:\\n\")  # Print a label for the output\n",
    "df_filled  # Displaying the DataFrame with filled missing values\n"
   ]
  },
  {
   "cell_type": "code",
   "execution_count": 11,
   "id": "cd5cf29d",
   "metadata": {},
   "outputs": [
    {
     "data": {
      "text/html": [
       "<div>\n",
       "<style scoped>\n",
       "    .dataframe tbody tr th:only-of-type {\n",
       "        vertical-align: middle;\n",
       "    }\n",
       "\n",
       "    .dataframe tbody tr th {\n",
       "        vertical-align: top;\n",
       "    }\n",
       "\n",
       "    .dataframe thead th {\n",
       "        text-align: right;\n",
       "    }\n",
       "</style>\n",
       "<table border=\"1\" class=\"dataframe\">\n",
       "  <thead>\n",
       "    <tr style=\"text-align: right;\">\n",
       "      <th></th>\n",
       "      <th>Feature1</th>\n",
       "      <th>Feature2</th>\n",
       "    </tr>\n",
       "  </thead>\n",
       "  <tbody>\n",
       "    <tr>\n",
       "      <th>0</th>\n",
       "      <td>10</td>\n",
       "      <td>5</td>\n",
       "    </tr>\n",
       "    <tr>\n",
       "      <th>1</th>\n",
       "      <td>20</td>\n",
       "      <td>15</td>\n",
       "    </tr>\n",
       "    <tr>\n",
       "      <th>2</th>\n",
       "      <td>30</td>\n",
       "      <td>25</td>\n",
       "    </tr>\n",
       "    <tr>\n",
       "      <th>3</th>\n",
       "      <td>40</td>\n",
       "      <td>35</td>\n",
       "    </tr>\n",
       "    <tr>\n",
       "      <th>4</th>\n",
       "      <td>50</td>\n",
       "      <td>45</td>\n",
       "    </tr>\n",
       "  </tbody>\n",
       "</table>\n",
       "</div>"
      ],
      "text/plain": [
       "   Feature1  Feature2\n",
       "0        10         5\n",
       "1        20        15\n",
       "2        30        25\n",
       "3        40        35\n",
       "4        50        45"
      ]
     },
     "execution_count": 11,
     "metadata": {},
     "output_type": "execute_result"
    }
   ],
   "source": [
    "import pandas as pd  # Importing pandas for data manipulation and analysis\n",
    "\n",
    "# Creating a sample DataFrame\n",
    "data = {\n",
    "    \"Feature1\": [10, 20, 30, 40, 50],  # List of values for 'Feature1'\n",
    "    \"Feature2\": [5, 15, 25, 35, 45]  # List of values for 'Feature2'\n",
    "}\n",
    "df_stats = pd.DataFrame(data)  # Converting the dictionary to a pandas DataFrame\n",
    "\n",
    "# Displaying the DataFrame\n",
    "df_stats  # Displaying the sample DataFrame\n"
   ]
  },
  {
   "cell_type": "code",
   "execution_count": 12,
   "id": "5f695ced",
   "metadata": {},
   "outputs": [
    {
     "name": "stdout",
     "output_type": "stream",
     "text": [
      "Standard Deviation of each column:\n",
      "\n"
     ]
    },
    {
     "data": {
      "text/plain": [
       "Feature1    15.811388\n",
       "Feature2    15.811388\n",
       "dtype: float64"
      ]
     },
     "execution_count": 12,
     "metadata": {},
     "output_type": "execute_result"
    }
   ],
   "source": [
    "# Calculating standard deviation for each column\n",
    "std_dev = df_stats.std()  # Calculating the standard deviation for each column in the DataFrame\n",
    "print(\"Standard Deviation of each column:\\n\")  # Print a label for the output\n",
    "std_dev  # Displaying the standard deviation of each column\n"
   ]
  },
  {
   "cell_type": "markdown",
   "id": "2cf081c1",
   "metadata": {},
   "source": [
    "### NumPy Library\n",
    "\n",
    "**NumPy** (Numerical Python) is essential for machine learning and AI due to its powerful capabilities for numerical computing.\n",
    "\n",
    "**Key Features:**\n",
    "1. **Efficient Arrays:** Provides efficient storage and operations for large arrays and matrices.\n",
    "2. **Mathematical Functions:** Offers a wide range of functions for complex calculations.\n",
    "3. **Broadcasting:** Allows arithmetic operations on arrays of different shapes without explicit loops.\n",
    "4. **Performance:** Operations are fast and performed at C-speed, crucial for handling large datasets in ML and AI.\n",
    "\n",
    "**Benefits for ML and AI:**\n",
    "- **Speed:** Enhances performance for numerical computations.\n",
    "- **Convenience:** Simplifies the implementation of algorithms.\n",
    "- **Integration:** Works seamlessly with other libraries like Pandas and TensorFlow.\n",
    "\n",
    "NumPy is a foundational tool in machine learning and AI for data manipulation and computational efficiency.\n"
   ]
  },
  {
   "cell_type": "code",
   "execution_count": 13,
   "id": "ceb2718c",
   "metadata": {},
   "outputs": [
    {
     "name": "stdout",
     "output_type": "stream",
     "text": [
      "Defaulting to user installation because normal site-packages is not writeable\n",
      "Requirement already satisfied: numpy in c:\\users\\suaiman ureiga\\appdata\\roaming\\python\\python311\\site-packages (1.26.4)\n"
     ]
    }
   ],
   "source": [
    "# Installing the NumPy package for numerical operations and large, multi-dimensional arrays\n",
    "!pip install numpy"
   ]
  },
  {
   "cell_type": "code",
   "execution_count": 2,
   "id": "e5a86d15",
   "metadata": {},
   "outputs": [],
   "source": [
    "import numpy as np  # Importing NumPy for numerical operations\n"
   ]
  },
  {
   "cell_type": "code",
   "execution_count": 3,
   "id": "4479c4fe",
   "metadata": {},
   "outputs": [
    {
     "name": "stdout",
     "output_type": "stream",
     "text": [
      "1D Array: [1 2 3 4 5]\n"
     ]
    }
   ],
   "source": [
    "# Creating a 1D array\n",
    "array_1d = np.array([1, 2, 3, 4, 5])  # Creating a 1-dimensional NumPy array\n",
    "print(\"1D Array:\", array_1d)  # Printing the 1D array\n"
   ]
  },
  {
   "cell_type": "code",
   "execution_count": 4,
   "id": "c3d214fc",
   "metadata": {},
   "outputs": [
    {
     "name": "stdout",
     "output_type": "stream",
     "text": [
      "2D Array (Matrix):\n",
      " [[1 2 3]\n",
      " [4 5 6]\n",
      " [7 8 9]]\n"
     ]
    }
   ],
   "source": [
    "# Creating a 2D array (matrix)\n",
    "array_2d = np.array([[1, 2, 3], [4, 5, 6], [7, 8, 9]])  # Creating a 2-dimensional NumPy array (matrix)\n",
    "print(\"2D Array (Matrix):\\n\", array_2d)  # Printing the 2D array (matrix)\n"
   ]
  },
  {
   "cell_type": "code",
   "execution_count": 5,
   "id": "787d0a99",
   "metadata": {},
   "outputs": [
    {
     "name": "stdout",
     "output_type": "stream",
     "text": [
      "3D Array:\n",
      " [[[ 1  2  3]\n",
      "  [ 4  5  6]\n",
      "  [ 7  8  9]]\n",
      "\n",
      " [[10 11 12]\n",
      "  [13 14 15]\n",
      "  [16 17 18]]]\n"
     ]
    }
   ],
   "source": [
    "# Creating a 3D array (2 matrices of 3x3)\n",
    "array_3d = np.array([[[1, 2, 3], [4, 5, 6], [7, 8, 9]], \n",
    "                     [[10, 11, 12], [13, 14, 15], [16, 17, 18]]])  # Creating a 3-dimensional NumPy array (2 matrices of 3x3)\n",
    "print(\"3D Array:\\n\", array_3d)  # Printing the 3D array\n"
   ]
  },
  {
   "cell_type": "code",
   "execution_count": 6,
   "id": "b7e6b51d",
   "metadata": {},
   "outputs": [
    {
     "name": "stdout",
     "output_type": "stream",
     "text": [
      "Sum of 1D Array: 15\n",
      "Mean of 1D Array: 3.0\n",
      "Squared 1D Array: [ 1  4  9 16 25]\n"
     ]
    }
   ],
   "source": [
    "# Mathematical Operations:\n",
    "\n",
    "# Sum of all elements\n",
    "sum_array = np.sum(array_1d)  # Calculating the sum of all elements in the 1D array\n",
    "print(\"Sum of 1D Array:\", sum_array)  # Printing the sum of the 1D array\n",
    "\n",
    "# Mean of all elements\n",
    "mean_array = np.mean(array_1d)  # Calculating the mean of all elements in the 1D array\n",
    "print(\"Mean of 1D Array:\", mean_array)  # Printing the mean of the 1D array\n",
    "\n",
    "# Squaring each element\n",
    "squared_array = np.square(array_1d)  # Squaring each element in the 1D array\n",
    "print(\"Squared 1D Array:\", squared_array)  # Printing the squared 1D array\n"
   ]
  },
  {
   "cell_type": "code",
   "execution_count": 7,
   "id": "0ace7c83",
   "metadata": {},
   "outputs": [
    {
     "data": {
      "text/plain": [
       "(5,)"
      ]
     },
     "execution_count": 7,
     "metadata": {},
     "output_type": "execute_result"
    }
   ],
   "source": [
    "(5,)"
   ]
  },
  {
   "cell_type": "code",
   "execution_count": 8,
   "id": "82b7f497",
   "metadata": {},
   "outputs": [
    {
     "name": "stdout",
     "output_type": "stream",
     "text": [
      "Reshaped Array (1D to 2D):\n",
      " [[1]\n",
      " [2]\n",
      " [3]\n",
      " [4]\n",
      " [5]]\n"
     ]
    }
   ],
   "source": [
    "# Reshaping a 1D array to a 2D array\n",
    "reshaped_array = array_1d.reshape((5, 1))  # Reshaping the 1D array to a 2D array with 5 rows and 1 column\n",
    "print(\"Reshaped Array (1D to 2D):\\n\", reshaped_array)  # Printing the reshaped 2D array\n"
   ]
  },
  {
   "cell_type": "code",
   "execution_count": 9,
   "id": "4600b16e",
   "metadata": {},
   "outputs": [
    {
     "name": "stdout",
     "output_type": "stream",
     "text": [
      "2D Array (Matrix):\n",
      " [[1 2 3]\n",
      " [4 5 6]\n",
      " [7 8 9]]\n",
      "Transposed Matrix:\n",
      " [[1 4 7]\n",
      " [2 5 8]\n",
      " [3 6 9]]\n"
     ]
    }
   ],
   "source": [
    "# Transposing a 2D array (matrix)\n",
    "transposed_matrix = np.transpose(array_2d)  # Transposing the 2D array (matrix)\n",
    "print(\"2D Array (Matrix):\\n\", array_2d)  # Printing the original 2\n",
    "print(\"Transposed Matrix:\\n\", transposed_matrix)  # Printing the transposed matrix\n",
    "\n"
   ]
  },
  {
   "cell_type": "code",
   "execution_count": 11,
   "id": "a5fc4c4e",
   "metadata": {},
   "outputs": [
    {
     "name": "stdout",
     "output_type": "stream",
     "text": [
      "matrix_a:\n",
      " [[1 2]\n",
      " [3 4]]\n",
      "matrix_b:\n",
      " [[5 6]\n",
      " [7 8]]\n",
      "Matrix Product:\n",
      " [[19 22]\n",
      " [43 50]]\n"
     ]
    }
   ],
   "source": [
    "# Matrix multiplication: you can google the math concept for more understanding\n",
    "matrix_a = np.array([[1, 2], [3, 4]])  # Creating the first matrix\n",
    "matrix_b = np.array([[5, 6], [7, 8]])  # Creating the second matrix\n",
    "print(\"matrix_a:\\n\", matrix_a) \n",
    "print(\"matrix_b:\\n\", matrix_b) \n",
    "matrix_product = np.dot(matrix_a, matrix_b)  # Performing matrix multiplication\n",
    "print(\"Matrix Product:\\n\", matrix_product)  # Printing the product of the two matrices\n"
   ]
  },
  {
   "cell_type": "code",
   "execution_count": 16,
   "id": "30922100",
   "metadata": {
    "scrolled": true
   },
   "outputs": [
    {
     "name": "stdout",
     "output_type": "stream",
     "text": [
      "Standard Deviation of 1D Array: 1.4142135623730951\n",
      "Random Numbers:\n",
      " [[ 0.95057761 -0.19118869  1.14322294]\n",
      " [ 2.11721334  1.1969978  -0.05391155]\n",
      " [-1.27602653  0.40478584  1.54229   ]]\n"
     ]
    }
   ],
   "source": [
    "# Statistical Operations:\n",
    "\n",
    "# Standard Deviation measures how spread out the numbers in a dataset are from the mean.\n",
    "# Standard deviation of the array\n",
    "std_dev = np.std(array_1d)  # Calculating the standard deviation of the 1D array\n",
    "print(\"Standard Deviation of 1D Array:\", std_dev)  # Printing the standard deviation of the 1D array\n",
    "\n",
    "# Generating random numbers (useful for initializing weights in ML models)\n",
    "random_numbers = np.random.randn(3, 3)  # Generating a 3x3 array of random numbers from a standard normal distribution\n",
    "print(\"Random Numbers:\\n\", random_numbers)  # Printing the array of random numbers\n"
   ]
  },
  {
   "cell_type": "code",
   "execution_count": 18,
   "id": "ff85e8ed",
   "metadata": {},
   "outputs": [
    {
     "name": "stdout",
     "output_type": "stream",
     "text": [
      "Dataset:\n",
      " [[0.75875293 0.63515349 0.28664695]\n",
      " [0.34719639 0.46884537 0.07145926]\n",
      " [0.04632218 0.71594408 0.75705402]\n",
      " [0.47079323 0.49047363 0.84481274]\n",
      " [0.62584534 0.45493254 0.49626731]\n",
      " [0.82668808 0.68637581 0.82806318]\n",
      " [0.90584383 0.77015677 0.66231961]\n",
      " [0.1808988  0.7721702  0.0698566 ]\n",
      " [0.99134241 0.56517309 0.66407787]\n",
      " [0.83674407 0.75496424 0.32287998]]\n"
     ]
    }
   ],
   "source": [
    "# Creating a random dataset\n",
    "dataset = np.random.rand(10, 3)  # Generating a dataset with 10 samples and 3 features each, with values between 0 and 1\n",
    "print(\"Dataset:\\n\", dataset)  # Printing the generated dataset\n"
   ]
  },
  {
   "cell_type": "code",
   "execution_count": 21,
   "id": "c086ed89",
   "metadata": {},
   "outputs": [
    {
     "data": {
      "text/plain": [
       "array([0.75875293, 0.63515349, 0.28664695])"
      ]
     },
     "execution_count": 21,
     "metadata": {},
     "output_type": "execute_result"
    }
   ],
   "source": [
    "dataset [0]"
   ]
  },
  {
   "cell_type": "code",
   "execution_count": 24,
   "id": "346a2b32",
   "metadata": {},
   "outputs": [
    {
     "data": {
      "text/plain": [
       "array([0.75875293, 0.34719639, 0.04632218, 0.47079323, 0.62584534,\n",
       "       0.82668808, 0.90584383, 0.1808988 , 0.99134241, 0.83674407])"
      ]
     },
     "execution_count": 24,
     "metadata": {},
     "output_type": "execute_result"
    }
   ],
   "source": [
    " dataset[:, 0]"
   ]
  },
  {
   "cell_type": "code",
   "execution_count": 24,
   "id": "5dd2a132",
   "metadata": {},
   "outputs": [
    {
     "name": "stdout",
     "output_type": "stream",
     "text": [
      "Selected Feature Column:\n",
      " [0.68597738 0.04809113 0.34103575 0.56906574 0.34726844 0.94795074\n",
      " 0.54493997 0.35254728 0.40858989 0.2502299 ]\n"
     ]
    }
   ],
   "source": [
    "# Selecting a specific column (feature) #slicing\n",
    "\n",
    "feature_column = dataset[:, 1]  # Selecting all rows from the second column\n",
    "print(\"Selected Feature Column:\\n\", feature_column)  # Printing the selected feature column\n"
   ]
  },
  {
   "cell_type": "code",
   "execution_count": 25,
   "id": "70c6c374",
   "metadata": {},
   "outputs": [
    {
     "name": "stdout",
     "output_type": "stream",
     "text": [
      "Training Set:\n",
      " [[0.84053851 0.68597738 0.0982776 ]\n",
      " [0.43414145 0.04809113 0.72197675]\n",
      " [0.12867571 0.34103575 0.75944955]\n",
      " [0.58576175 0.56906574 0.2365517 ]\n",
      " [0.49058705 0.34726844 0.52839662]\n",
      " [0.70559326 0.94795074 0.0333403 ]\n",
      " [0.45993356 0.54493997 0.46841854]\n",
      " [0.12665715 0.35254728 0.3953318 ]]\n",
      "Test Set:\n",
      " [[0.70688435 0.40858989 0.44768117]\n",
      " [0.29843744 0.2502299  0.88463554]]\n"
     ]
    }
   ],
   "source": [
    "# Splitting data into training and test sets (80-20 split)\n",
    "train_size = int(0.8 * dataset.shape[0])  # Calculating the training set size (80% of the total dataset)\n",
    "train_set, test_set = dataset[:train_size], dataset[train_size:]  # Splitting the dataset into training and test sets\n",
    "print(\"Training Set:\\n\", train_set)  # Printing the training set\n",
    "print(\"Test Set:\\n\", test_set)  # Printing the test set\n"
   ]
  },
  {
   "cell_type": "markdown",
   "id": "27a3cd1f",
   "metadata": {},
   "source": [
    "The website below is an excellent resource for learning Python. I highly recommend exploring it to build your foundation. It offers quizzes, tutorials, and valuable knowledge to teach you the basics."
   ]
  },
  {
   "cell_type": "markdown",
   "id": "a2797186",
   "metadata": {},
   "source": [
    "https://www.w3schools.com/python/\n"
   ]
  },
  {
   "cell_type": "code",
   "execution_count": null,
   "id": "c624eef8",
   "metadata": {},
   "outputs": [],
   "source": []
  }
 ],
 "metadata": {
  "kernelspec": {
   "display_name": "Python 3 (ipykernel)",
   "language": "python",
   "name": "python3"
  },
  "language_info": {
   "codemirror_mode": {
    "name": "ipython",
    "version": 3
   },
   "file_extension": ".py",
   "mimetype": "text/x-python",
   "name": "python",
   "nbconvert_exporter": "python",
   "pygments_lexer": "ipython3",
   "version": "3.11.5"
  }
 },
 "nbformat": 4,
 "nbformat_minor": 5
}
