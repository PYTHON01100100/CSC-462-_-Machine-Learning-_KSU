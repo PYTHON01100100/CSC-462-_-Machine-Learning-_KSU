{
 "cells": [
  {
   "cell_type": "markdown",
   "id": "011c4584",
   "metadata": {},
   "source": [
    "#  Classification Project: Iris Flower Classification\n",
    "\n",
    "#### Objective:\n",
    "Build a model to classify iris flowers into three species (setosa, versicolor, virginica) based on their features.\n",
    "\n",
    "#### Dataset:\n",
    "Iris dataset from scikit-learn.\n",
    "\n",
    "#### Steps:\n",
    "\n",
    "1. **Data Loading and Exploration**\n",
    "2. **Data Preprocessing**\n",
    "3. **Model Training**\n",
    "4. **Model Evaluation**\n",
    "\n"
   ]
  },
  {
   "cell_type": "markdown",
   "id": "a0430fcb",
   "metadata": {},
   "source": [
    "# Summary of the Iris Dataset\n",
    "\n",
    "The Iris dataset is a classic and widely used dataset in the field of machine learning. It consists of 150 samples from three species of Iris flowers: setosa, versicolor, and virginica. Each sample has four features:\n",
    "\n",
    "1. **Sepal length (cm)**\n",
    "2. **Sepal width (cm)**\n",
    "3. **Petal length (cm)**\n",
    "4. **Petal width (cm)**\n",
    "\n",
    "These features are numerical and provide various measurements of the flowers' physical characteristics.\n",
    "\n",
    "#### Species Distribution:\n",
    "- **Setosa**: 50 samples\n",
    "- **Versicolor**: 50 samples\n",
    "- **Virginica**: 50 samples\n",
    "\n",
    "### Objective\n",
    "\n",
    "The primary objective of this project is to build a machine learning model that can accurately classify iris flowers into one of the three species based on their physical characteristics. Specifically, we aim to:\n",
    "\n",
    "1. **Explore and visualize the Iris dataset** to understand the distributions and relationships between the features.\n",
    "2. **Preprocess the data** by splitting it into training and testing sets and standardizing the feature values.\n",
    "3. **Train a classification model** using logistic regression to predict the species of iris flowers.\n",
    "4. **Evaluate the model's performance** using metrics such as accuracy, classification report, and confusion matrix."
   ]
  },
  {
   "cell_type": "markdown",
   "id": "fcca8ec4",
   "metadata": {},
   "source": [
    "# 1. Data Loading and Exploration\n",
    "\n",
    "### Data Loading and Exploration\n",
    "\n",
    "#### Summary:\n",
    "Data loading and exploration is a crucial first step in any machine learning project. It involves importing the dataset, converting it into a suitable format for analysis, and understanding its basic structure and characteristics. This step is essential because it helps identify the data's underlying patterns, relationships, and potential issues, which can inform subsequent preprocessing and modeling steps.\n",
    "\n",
    "#### Importance:\n",
    "- **Understanding Structure**: Helps in grasping the dataset's dimensions, data types, and basic statistics.\n",
    "- **Identifying Patterns**: Reveals patterns, trends, and relationships between variables.\n",
    "- **Detecting Anomalies**: Helps spot missing values, outliers, or inconsistencies in the data.\n",
    "- **Guiding Preprocessing**: Informs decisions on necessary data transformations, such as scaling, encoding, and splitting.\n"
   ]
  },
  {
   "cell_type": "code",
   "execution_count": 2,
   "id": "a37dada4",
   "metadata": {},
   "outputs": [
    {
     "name": "stderr",
     "output_type": "stream",
     "text": [
      "ERROR: Invalid requirement: '#'\n",
      "ERROR: Invalid requirement: '#'\n",
      "ERROR: Invalid requirement: '#'\n",
      "ERROR: Invalid requirement: '#'\n"
     ]
    }
   ],
   "source": [
    "!pip install pandas  # Install the pandas library for data manipulation and analysis\n",
    "!pip install scikit-learn  # Install the scikit-learn library for machine learning algorithms\n",
    "!pip install seaborn  # Install the seaborn library for statistical data visualization\n",
    "!pip install matplotlib  # Install the matplotlib library for creating static, animated, and interactive visualizations\n",
    "\n"
   ]
  },
  {
   "cell_type": "code",
   "execution_count": 3,
   "id": "57498da5",
   "metadata": {},
   "outputs": [],
   "source": [
    "import pandas as pd  # Importing pandas for data manipulation and analysis\n",
    "from sklearn.datasets import load_iris  # Importing function to load the iris dataset\n",
    "from sklearn.model_selection import train_test_split  # Importing function to split data into training and testing sets\n",
    "from sklearn.preprocessing import StandardScaler  # Importing StandardScaler for feature scaling\n",
    "from sklearn.linear_model import LogisticRegression  # Importing LogisticRegression for the classification model\n",
    "from sklearn.metrics import accuracy_score, classification_report, confusion_matrix  # Importing metrics for model evaluation\n",
    "import seaborn as sns  # Importing seaborn for data visualization\n",
    "import matplotlib.pyplot as plt  # Importing matplotlib for plotting graphs\n"
   ]
  },
  {
   "cell_type": "code",
   "execution_count": 4,
   "id": "4be1e9f8",
   "metadata": {},
   "outputs": [],
   "source": [
    "# Load the Iris dataset\n",
    "iris = load_iris()  # Loading the Iris dataset into a variable"
   ]
  },
  {
   "cell_type": "code",
   "execution_count": 5,
   "id": "3ce3f0e4",
   "metadata": {},
   "outputs": [
    {
     "data": {
      "text/plain": [
       "{'data': array([[5.1, 3.5, 1.4, 0.2],\n",
       "        [4.9, 3. , 1.4, 0.2],\n",
       "        [4.7, 3.2, 1.3, 0.2],\n",
       "        [4.6, 3.1, 1.5, 0.2],\n",
       "        [5. , 3.6, 1.4, 0.2],\n",
       "        [5.4, 3.9, 1.7, 0.4],\n",
       "        [4.6, 3.4, 1.4, 0.3],\n",
       "        [5. , 3.4, 1.5, 0.2],\n",
       "        [4.4, 2.9, 1.4, 0.2],\n",
       "        [4.9, 3.1, 1.5, 0.1],\n",
       "        [5.4, 3.7, 1.5, 0.2],\n",
       "        [4.8, 3.4, 1.6, 0.2],\n",
       "        [4.8, 3. , 1.4, 0.1],\n",
       "        [4.3, 3. , 1.1, 0.1],\n",
       "        [5.8, 4. , 1.2, 0.2],\n",
       "        [5.7, 4.4, 1.5, 0.4],\n",
       "        [5.4, 3.9, 1.3, 0.4],\n",
       "        [5.1, 3.5, 1.4, 0.3],\n",
       "        [5.7, 3.8, 1.7, 0.3],\n",
       "        [5.1, 3.8, 1.5, 0.3],\n",
       "        [5.4, 3.4, 1.7, 0.2],\n",
       "        [5.1, 3.7, 1.5, 0.4],\n",
       "        [4.6, 3.6, 1. , 0.2],\n",
       "        [5.1, 3.3, 1.7, 0.5],\n",
       "        [4.8, 3.4, 1.9, 0.2],\n",
       "        [5. , 3. , 1.6, 0.2],\n",
       "        [5. , 3.4, 1.6, 0.4],\n",
       "        [5.2, 3.5, 1.5, 0.2],\n",
       "        [5.2, 3.4, 1.4, 0.2],\n",
       "        [4.7, 3.2, 1.6, 0.2],\n",
       "        [4.8, 3.1, 1.6, 0.2],\n",
       "        [5.4, 3.4, 1.5, 0.4],\n",
       "        [5.2, 4.1, 1.5, 0.1],\n",
       "        [5.5, 4.2, 1.4, 0.2],\n",
       "        [4.9, 3.1, 1.5, 0.2],\n",
       "        [5. , 3.2, 1.2, 0.2],\n",
       "        [5.5, 3.5, 1.3, 0.2],\n",
       "        [4.9, 3.6, 1.4, 0.1],\n",
       "        [4.4, 3. , 1.3, 0.2],\n",
       "        [5.1, 3.4, 1.5, 0.2],\n",
       "        [5. , 3.5, 1.3, 0.3],\n",
       "        [4.5, 2.3, 1.3, 0.3],\n",
       "        [4.4, 3.2, 1.3, 0.2],\n",
       "        [5. , 3.5, 1.6, 0.6],\n",
       "        [5.1, 3.8, 1.9, 0.4],\n",
       "        [4.8, 3. , 1.4, 0.3],\n",
       "        [5.1, 3.8, 1.6, 0.2],\n",
       "        [4.6, 3.2, 1.4, 0.2],\n",
       "        [5.3, 3.7, 1.5, 0.2],\n",
       "        [5. , 3.3, 1.4, 0.2],\n",
       "        [7. , 3.2, 4.7, 1.4],\n",
       "        [6.4, 3.2, 4.5, 1.5],\n",
       "        [6.9, 3.1, 4.9, 1.5],\n",
       "        [5.5, 2.3, 4. , 1.3],\n",
       "        [6.5, 2.8, 4.6, 1.5],\n",
       "        [5.7, 2.8, 4.5, 1.3],\n",
       "        [6.3, 3.3, 4.7, 1.6],\n",
       "        [4.9, 2.4, 3.3, 1. ],\n",
       "        [6.6, 2.9, 4.6, 1.3],\n",
       "        [5.2, 2.7, 3.9, 1.4],\n",
       "        [5. , 2. , 3.5, 1. ],\n",
       "        [5.9, 3. , 4.2, 1.5],\n",
       "        [6. , 2.2, 4. , 1. ],\n",
       "        [6.1, 2.9, 4.7, 1.4],\n",
       "        [5.6, 2.9, 3.6, 1.3],\n",
       "        [6.7, 3.1, 4.4, 1.4],\n",
       "        [5.6, 3. , 4.5, 1.5],\n",
       "        [5.8, 2.7, 4.1, 1. ],\n",
       "        [6.2, 2.2, 4.5, 1.5],\n",
       "        [5.6, 2.5, 3.9, 1.1],\n",
       "        [5.9, 3.2, 4.8, 1.8],\n",
       "        [6.1, 2.8, 4. , 1.3],\n",
       "        [6.3, 2.5, 4.9, 1.5],\n",
       "        [6.1, 2.8, 4.7, 1.2],\n",
       "        [6.4, 2.9, 4.3, 1.3],\n",
       "        [6.6, 3. , 4.4, 1.4],\n",
       "        [6.8, 2.8, 4.8, 1.4],\n",
       "        [6.7, 3. , 5. , 1.7],\n",
       "        [6. , 2.9, 4.5, 1.5],\n",
       "        [5.7, 2.6, 3.5, 1. ],\n",
       "        [5.5, 2.4, 3.8, 1.1],\n",
       "        [5.5, 2.4, 3.7, 1. ],\n",
       "        [5.8, 2.7, 3.9, 1.2],\n",
       "        [6. , 2.7, 5.1, 1.6],\n",
       "        [5.4, 3. , 4.5, 1.5],\n",
       "        [6. , 3.4, 4.5, 1.6],\n",
       "        [6.7, 3.1, 4.7, 1.5],\n",
       "        [6.3, 2.3, 4.4, 1.3],\n",
       "        [5.6, 3. , 4.1, 1.3],\n",
       "        [5.5, 2.5, 4. , 1.3],\n",
       "        [5.5, 2.6, 4.4, 1.2],\n",
       "        [6.1, 3. , 4.6, 1.4],\n",
       "        [5.8, 2.6, 4. , 1.2],\n",
       "        [5. , 2.3, 3.3, 1. ],\n",
       "        [5.6, 2.7, 4.2, 1.3],\n",
       "        [5.7, 3. , 4.2, 1.2],\n",
       "        [5.7, 2.9, 4.2, 1.3],\n",
       "        [6.2, 2.9, 4.3, 1.3],\n",
       "        [5.1, 2.5, 3. , 1.1],\n",
       "        [5.7, 2.8, 4.1, 1.3],\n",
       "        [6.3, 3.3, 6. , 2.5],\n",
       "        [5.8, 2.7, 5.1, 1.9],\n",
       "        [7.1, 3. , 5.9, 2.1],\n",
       "        [6.3, 2.9, 5.6, 1.8],\n",
       "        [6.5, 3. , 5.8, 2.2],\n",
       "        [7.6, 3. , 6.6, 2.1],\n",
       "        [4.9, 2.5, 4.5, 1.7],\n",
       "        [7.3, 2.9, 6.3, 1.8],\n",
       "        [6.7, 2.5, 5.8, 1.8],\n",
       "        [7.2, 3.6, 6.1, 2.5],\n",
       "        [6.5, 3.2, 5.1, 2. ],\n",
       "        [6.4, 2.7, 5.3, 1.9],\n",
       "        [6.8, 3. , 5.5, 2.1],\n",
       "        [5.7, 2.5, 5. , 2. ],\n",
       "        [5.8, 2.8, 5.1, 2.4],\n",
       "        [6.4, 3.2, 5.3, 2.3],\n",
       "        [6.5, 3. , 5.5, 1.8],\n",
       "        [7.7, 3.8, 6.7, 2.2],\n",
       "        [7.7, 2.6, 6.9, 2.3],\n",
       "        [6. , 2.2, 5. , 1.5],\n",
       "        [6.9, 3.2, 5.7, 2.3],\n",
       "        [5.6, 2.8, 4.9, 2. ],\n",
       "        [7.7, 2.8, 6.7, 2. ],\n",
       "        [6.3, 2.7, 4.9, 1.8],\n",
       "        [6.7, 3.3, 5.7, 2.1],\n",
       "        [7.2, 3.2, 6. , 1.8],\n",
       "        [6.2, 2.8, 4.8, 1.8],\n",
       "        [6.1, 3. , 4.9, 1.8],\n",
       "        [6.4, 2.8, 5.6, 2.1],\n",
       "        [7.2, 3. , 5.8, 1.6],\n",
       "        [7.4, 2.8, 6.1, 1.9],\n",
       "        [7.9, 3.8, 6.4, 2. ],\n",
       "        [6.4, 2.8, 5.6, 2.2],\n",
       "        [6.3, 2.8, 5.1, 1.5],\n",
       "        [6.1, 2.6, 5.6, 1.4],\n",
       "        [7.7, 3. , 6.1, 2.3],\n",
       "        [6.3, 3.4, 5.6, 2.4],\n",
       "        [6.4, 3.1, 5.5, 1.8],\n",
       "        [6. , 3. , 4.8, 1.8],\n",
       "        [6.9, 3.1, 5.4, 2.1],\n",
       "        [6.7, 3.1, 5.6, 2.4],\n",
       "        [6.9, 3.1, 5.1, 2.3],\n",
       "        [5.8, 2.7, 5.1, 1.9],\n",
       "        [6.8, 3.2, 5.9, 2.3],\n",
       "        [6.7, 3.3, 5.7, 2.5],\n",
       "        [6.7, 3. , 5.2, 2.3],\n",
       "        [6.3, 2.5, 5. , 1.9],\n",
       "        [6.5, 3. , 5.2, 2. ],\n",
       "        [6.2, 3.4, 5.4, 2.3],\n",
       "        [5.9, 3. , 5.1, 1.8]]),\n",
       " 'target': array([0, 0, 0, 0, 0, 0, 0, 0, 0, 0, 0, 0, 0, 0, 0, 0, 0, 0, 0, 0, 0, 0,\n",
       "        0, 0, 0, 0, 0, 0, 0, 0, 0, 0, 0, 0, 0, 0, 0, 0, 0, 0, 0, 0, 0, 0,\n",
       "        0, 0, 0, 0, 0, 0, 1, 1, 1, 1, 1, 1, 1, 1, 1, 1, 1, 1, 1, 1, 1, 1,\n",
       "        1, 1, 1, 1, 1, 1, 1, 1, 1, 1, 1, 1, 1, 1, 1, 1, 1, 1, 1, 1, 1, 1,\n",
       "        1, 1, 1, 1, 1, 1, 1, 1, 1, 1, 1, 1, 2, 2, 2, 2, 2, 2, 2, 2, 2, 2,\n",
       "        2, 2, 2, 2, 2, 2, 2, 2, 2, 2, 2, 2, 2, 2, 2, 2, 2, 2, 2, 2, 2, 2,\n",
       "        2, 2, 2, 2, 2, 2, 2, 2, 2, 2, 2, 2, 2, 2, 2, 2, 2, 2]),\n",
       " 'frame': None,\n",
       " 'target_names': array(['setosa', 'versicolor', 'virginica'], dtype='<U10'),\n",
       " 'DESCR': '.. _iris_dataset:\\n\\nIris plants dataset\\n--------------------\\n\\n**Data Set Characteristics:**\\n\\n    :Number of Instances: 150 (50 in each of three classes)\\n    :Number of Attributes: 4 numeric, predictive attributes and the class\\n    :Attribute Information:\\n        - sepal length in cm\\n        - sepal width in cm\\n        - petal length in cm\\n        - petal width in cm\\n        - class:\\n                - Iris-Setosa\\n                - Iris-Versicolour\\n                - Iris-Virginica\\n                \\n    :Summary Statistics:\\n\\n    ============== ==== ==== ======= ===== ====================\\n                    Min  Max   Mean    SD   Class Correlation\\n    ============== ==== ==== ======= ===== ====================\\n    sepal length:   4.3  7.9   5.84   0.83    0.7826\\n    sepal width:    2.0  4.4   3.05   0.43   -0.4194\\n    petal length:   1.0  6.9   3.76   1.76    0.9490  (high!)\\n    petal width:    0.1  2.5   1.20   0.76    0.9565  (high!)\\n    ============== ==== ==== ======= ===== ====================\\n\\n    :Missing Attribute Values: None\\n    :Class Distribution: 33.3% for each of 3 classes.\\n    :Creator: R.A. Fisher\\n    :Donor: Michael Marshall (MARSHALL%PLU@io.arc.nasa.gov)\\n    :Date: July, 1988\\n\\nThe famous Iris database, first used by Sir R.A. Fisher. The dataset is taken\\nfrom Fisher\\'s paper. Note that it\\'s the same as in R, but not as in the UCI\\nMachine Learning Repository, which has two wrong data points.\\n\\nThis is perhaps the best known database to be found in the\\npattern recognition literature.  Fisher\\'s paper is a classic in the field and\\nis referenced frequently to this day.  (See Duda & Hart, for example.)  The\\ndata set contains 3 classes of 50 instances each, where each class refers to a\\ntype of iris plant.  One class is linearly separable from the other 2; the\\nlatter are NOT linearly separable from each other.\\n\\n.. topic:: References\\n\\n   - Fisher, R.A. \"The use of multiple measurements in taxonomic problems\"\\n     Annual Eugenics, 7, Part II, 179-188 (1936); also in \"Contributions to\\n     Mathematical Statistics\" (John Wiley, NY, 1950).\\n   - Duda, R.O., & Hart, P.E. (1973) Pattern Classification and Scene Analysis.\\n     (Q327.D83) John Wiley & Sons.  ISBN 0-471-22361-1.  See page 218.\\n   - Dasarathy, B.V. (1980) \"Nosing Around the Neighborhood: A New System\\n     Structure and Classification Rule for Recognition in Partially Exposed\\n     Environments\".  IEEE Transactions on Pattern Analysis and Machine\\n     Intelligence, Vol. PAMI-2, No. 1, 67-71.\\n   - Gates, G.W. (1972) \"The Reduced Nearest Neighbor Rule\".  IEEE Transactions\\n     on Information Theory, May 1972, 431-433.\\n   - See also: 1988 MLC Proceedings, 54-64.  Cheeseman et al\"s AUTOCLASS II\\n     conceptual clustering system finds 3 classes in the data.\\n   - Many, many more ...',\n",
       " 'feature_names': ['sepal length (cm)',\n",
       "  'sepal width (cm)',\n",
       "  'petal length (cm)',\n",
       "  'petal width (cm)'],\n",
       " 'filename': 'iris.csv',\n",
       " 'data_module': 'sklearn.datasets.data'}"
      ]
     },
     "execution_count": 5,
     "metadata": {},
     "output_type": "execute_result"
    }
   ],
   "source": [
    "iris  # Displaying the loaded Iris dataset"
   ]
  },
  {
   "cell_type": "code",
   "execution_count": 6,
   "id": "18cf41e7",
   "metadata": {},
   "outputs": [],
   "source": [
    "# Create a DataFrame with feature data\n",
    "data = pd.DataFrame(data=iris.data, columns=iris.feature_names)  # Creating a DataFrame with the feature data"
   ]
  },
  {
   "cell_type": "code",
   "execution_count": 7,
   "id": "c36e435e",
   "metadata": {},
   "outputs": [
    {
     "data": {
      "text/html": [
       "<div>\n",
       "<style scoped>\n",
       "    .dataframe tbody tr th:only-of-type {\n",
       "        vertical-align: middle;\n",
       "    }\n",
       "\n",
       "    .dataframe tbody tr th {\n",
       "        vertical-align: top;\n",
       "    }\n",
       "\n",
       "    .dataframe thead th {\n",
       "        text-align: right;\n",
       "    }\n",
       "</style>\n",
       "<table border=\"1\" class=\"dataframe\">\n",
       "  <thead>\n",
       "    <tr style=\"text-align: right;\">\n",
       "      <th></th>\n",
       "      <th>sepal length (cm)</th>\n",
       "      <th>sepal width (cm)</th>\n",
       "      <th>petal length (cm)</th>\n",
       "      <th>petal width (cm)</th>\n",
       "    </tr>\n",
       "  </thead>\n",
       "  <tbody>\n",
       "    <tr>\n",
       "      <th>0</th>\n",
       "      <td>5.1</td>\n",
       "      <td>3.5</td>\n",
       "      <td>1.4</td>\n",
       "      <td>0.2</td>\n",
       "    </tr>\n",
       "    <tr>\n",
       "      <th>1</th>\n",
       "      <td>4.9</td>\n",
       "      <td>3.0</td>\n",
       "      <td>1.4</td>\n",
       "      <td>0.2</td>\n",
       "    </tr>\n",
       "    <tr>\n",
       "      <th>2</th>\n",
       "      <td>4.7</td>\n",
       "      <td>3.2</td>\n",
       "      <td>1.3</td>\n",
       "      <td>0.2</td>\n",
       "    </tr>\n",
       "    <tr>\n",
       "      <th>3</th>\n",
       "      <td>4.6</td>\n",
       "      <td>3.1</td>\n",
       "      <td>1.5</td>\n",
       "      <td>0.2</td>\n",
       "    </tr>\n",
       "    <tr>\n",
       "      <th>4</th>\n",
       "      <td>5.0</td>\n",
       "      <td>3.6</td>\n",
       "      <td>1.4</td>\n",
       "      <td>0.2</td>\n",
       "    </tr>\n",
       "    <tr>\n",
       "      <th>...</th>\n",
       "      <td>...</td>\n",
       "      <td>...</td>\n",
       "      <td>...</td>\n",
       "      <td>...</td>\n",
       "    </tr>\n",
       "    <tr>\n",
       "      <th>145</th>\n",
       "      <td>6.7</td>\n",
       "      <td>3.0</td>\n",
       "      <td>5.2</td>\n",
       "      <td>2.3</td>\n",
       "    </tr>\n",
       "    <tr>\n",
       "      <th>146</th>\n",
       "      <td>6.3</td>\n",
       "      <td>2.5</td>\n",
       "      <td>5.0</td>\n",
       "      <td>1.9</td>\n",
       "    </tr>\n",
       "    <tr>\n",
       "      <th>147</th>\n",
       "      <td>6.5</td>\n",
       "      <td>3.0</td>\n",
       "      <td>5.2</td>\n",
       "      <td>2.0</td>\n",
       "    </tr>\n",
       "    <tr>\n",
       "      <th>148</th>\n",
       "      <td>6.2</td>\n",
       "      <td>3.4</td>\n",
       "      <td>5.4</td>\n",
       "      <td>2.3</td>\n",
       "    </tr>\n",
       "    <tr>\n",
       "      <th>149</th>\n",
       "      <td>5.9</td>\n",
       "      <td>3.0</td>\n",
       "      <td>5.1</td>\n",
       "      <td>1.8</td>\n",
       "    </tr>\n",
       "  </tbody>\n",
       "</table>\n",
       "<p>150 rows × 4 columns</p>\n",
       "</div>"
      ],
      "text/plain": [
       "     sepal length (cm)  sepal width (cm)  petal length (cm)  petal width (cm)\n",
       "0                  5.1               3.5                1.4               0.2\n",
       "1                  4.9               3.0                1.4               0.2\n",
       "2                  4.7               3.2                1.3               0.2\n",
       "3                  4.6               3.1                1.5               0.2\n",
       "4                  5.0               3.6                1.4               0.2\n",
       "..                 ...               ...                ...               ...\n",
       "145                6.7               3.0                5.2               2.3\n",
       "146                6.3               2.5                5.0               1.9\n",
       "147                6.5               3.0                5.2               2.0\n",
       "148                6.2               3.4                5.4               2.3\n",
       "149                5.9               3.0                5.1               1.8\n",
       "\n",
       "[150 rows x 4 columns]"
      ]
     },
     "execution_count": 7,
     "metadata": {},
     "output_type": "execute_result"
    }
   ],
   "source": [
    "data  # Displaying the DataFrame containing the feature data from the Iris dataset"
   ]
  },
  {
   "cell_type": "markdown",
   "id": "dae59e96",
   "metadata": {},
   "source": [
    "1. **sepal length (cm)**: Length of the sepal in centimeters.\n",
    "2. **sepal width (cm)**: Width of the sepal in centimeters.\n",
    "3. **petal length (cm)**: Length of the petal in centimeters.\n",
    "4. **petal width (cm)**: Width of the petal in centimeters.\n"
   ]
  },
  {
   "cell_type": "code",
   "execution_count": 8,
   "id": "1288869e",
   "metadata": {},
   "outputs": [],
   "source": [
    "data['species'] = iris.target  # Adding the target labels (species) to the DataFrame"
   ]
  },
  {
   "cell_type": "code",
   "execution_count": 9,
   "id": "c33214bd",
   "metadata": {},
   "outputs": [],
   "source": [
    "# Mapping target names to species\n",
    "data['species'] = data['species'].map({0: 'setosa', 1: 'versicolor', 2: 'virginica'})  # Mapping numerical target labels to species names"
   ]
  },
  {
   "cell_type": "code",
   "execution_count": 10,
   "id": "a75328fb",
   "metadata": {},
   "outputs": [],
   "source": [
    "data['species'] = data['species'].astype('category')  # Converting the 'species' column to a categorical data type\n"
   ]
  },
  {
   "cell_type": "code",
   "execution_count": 11,
   "id": "e52f7e06",
   "metadata": {
    "scrolled": true
   },
   "outputs": [
    {
     "data": {
      "text/html": [
       "<div>\n",
       "<style scoped>\n",
       "    .dataframe tbody tr th:only-of-type {\n",
       "        vertical-align: middle;\n",
       "    }\n",
       "\n",
       "    .dataframe tbody tr th {\n",
       "        vertical-align: top;\n",
       "    }\n",
       "\n",
       "    .dataframe thead th {\n",
       "        text-align: right;\n",
       "    }\n",
       "</style>\n",
       "<table border=\"1\" class=\"dataframe\">\n",
       "  <thead>\n",
       "    <tr style=\"text-align: right;\">\n",
       "      <th></th>\n",
       "      <th>sepal length (cm)</th>\n",
       "      <th>sepal width (cm)</th>\n",
       "      <th>petal length (cm)</th>\n",
       "      <th>petal width (cm)</th>\n",
       "      <th>species</th>\n",
       "    </tr>\n",
       "  </thead>\n",
       "  <tbody>\n",
       "    <tr>\n",
       "      <th>0</th>\n",
       "      <td>5.1</td>\n",
       "      <td>3.5</td>\n",
       "      <td>1.4</td>\n",
       "      <td>0.2</td>\n",
       "      <td>setosa</td>\n",
       "    </tr>\n",
       "    <tr>\n",
       "      <th>1</th>\n",
       "      <td>4.9</td>\n",
       "      <td>3.0</td>\n",
       "      <td>1.4</td>\n",
       "      <td>0.2</td>\n",
       "      <td>setosa</td>\n",
       "    </tr>\n",
       "    <tr>\n",
       "      <th>2</th>\n",
       "      <td>4.7</td>\n",
       "      <td>3.2</td>\n",
       "      <td>1.3</td>\n",
       "      <td>0.2</td>\n",
       "      <td>setosa</td>\n",
       "    </tr>\n",
       "    <tr>\n",
       "      <th>3</th>\n",
       "      <td>4.6</td>\n",
       "      <td>3.1</td>\n",
       "      <td>1.5</td>\n",
       "      <td>0.2</td>\n",
       "      <td>setosa</td>\n",
       "    </tr>\n",
       "    <tr>\n",
       "      <th>4</th>\n",
       "      <td>5.0</td>\n",
       "      <td>3.6</td>\n",
       "      <td>1.4</td>\n",
       "      <td>0.2</td>\n",
       "      <td>setosa</td>\n",
       "    </tr>\n",
       "  </tbody>\n",
       "</table>\n",
       "</div>"
      ],
      "text/plain": [
       "   sepal length (cm)  sepal width (cm)  petal length (cm)  petal width (cm)  \\\n",
       "0                5.1               3.5                1.4               0.2   \n",
       "1                4.9               3.0                1.4               0.2   \n",
       "2                4.7               3.2                1.3               0.2   \n",
       "3                4.6               3.1                1.5               0.2   \n",
       "4                5.0               3.6                1.4               0.2   \n",
       "\n",
       "  species  \n",
       "0  setosa  \n",
       "1  setosa  \n",
       "2  setosa  \n",
       "3  setosa  \n",
       "4  setosa  "
      ]
     },
     "execution_count": 11,
     "metadata": {},
     "output_type": "execute_result"
    }
   ],
   "source": [
    "# Explore the dataset\n",
    "data.head()  # Displaying the first few rows of the DataFrame to get an overview of the dataset\n"
   ]
  },
  {
   "cell_type": "code",
   "execution_count": 12,
   "id": "aab40c50",
   "metadata": {},
   "outputs": [
    {
     "data": {
      "text/html": [
       "<div>\n",
       "<style scoped>\n",
       "    .dataframe tbody tr th:only-of-type {\n",
       "        vertical-align: middle;\n",
       "    }\n",
       "\n",
       "    .dataframe tbody tr th {\n",
       "        vertical-align: top;\n",
       "    }\n",
       "\n",
       "    .dataframe thead th {\n",
       "        text-align: right;\n",
       "    }\n",
       "</style>\n",
       "<table border=\"1\" class=\"dataframe\">\n",
       "  <thead>\n",
       "    <tr style=\"text-align: right;\">\n",
       "      <th></th>\n",
       "      <th>sepal length (cm)</th>\n",
       "      <th>sepal width (cm)</th>\n",
       "      <th>petal length (cm)</th>\n",
       "      <th>petal width (cm)</th>\n",
       "    </tr>\n",
       "  </thead>\n",
       "  <tbody>\n",
       "    <tr>\n",
       "      <th>count</th>\n",
       "      <td>150.000000</td>\n",
       "      <td>150.000000</td>\n",
       "      <td>150.000000</td>\n",
       "      <td>150.000000</td>\n",
       "    </tr>\n",
       "    <tr>\n",
       "      <th>mean</th>\n",
       "      <td>5.843333</td>\n",
       "      <td>3.057333</td>\n",
       "      <td>3.758000</td>\n",
       "      <td>1.199333</td>\n",
       "    </tr>\n",
       "    <tr>\n",
       "      <th>std</th>\n",
       "      <td>0.828066</td>\n",
       "      <td>0.435866</td>\n",
       "      <td>1.765298</td>\n",
       "      <td>0.762238</td>\n",
       "    </tr>\n",
       "    <tr>\n",
       "      <th>min</th>\n",
       "      <td>4.300000</td>\n",
       "      <td>2.000000</td>\n",
       "      <td>1.000000</td>\n",
       "      <td>0.100000</td>\n",
       "    </tr>\n",
       "    <tr>\n",
       "      <th>25%</th>\n",
       "      <td>5.100000</td>\n",
       "      <td>2.800000</td>\n",
       "      <td>1.600000</td>\n",
       "      <td>0.300000</td>\n",
       "    </tr>\n",
       "    <tr>\n",
       "      <th>50%</th>\n",
       "      <td>5.800000</td>\n",
       "      <td>3.000000</td>\n",
       "      <td>4.350000</td>\n",
       "      <td>1.300000</td>\n",
       "    </tr>\n",
       "    <tr>\n",
       "      <th>75%</th>\n",
       "      <td>6.400000</td>\n",
       "      <td>3.300000</td>\n",
       "      <td>5.100000</td>\n",
       "      <td>1.800000</td>\n",
       "    </tr>\n",
       "    <tr>\n",
       "      <th>max</th>\n",
       "      <td>7.900000</td>\n",
       "      <td>4.400000</td>\n",
       "      <td>6.900000</td>\n",
       "      <td>2.500000</td>\n",
       "    </tr>\n",
       "  </tbody>\n",
       "</table>\n",
       "</div>"
      ],
      "text/plain": [
       "       sepal length (cm)  sepal width (cm)  petal length (cm)  \\\n",
       "count         150.000000        150.000000         150.000000   \n",
       "mean            5.843333          3.057333           3.758000   \n",
       "std             0.828066          0.435866           1.765298   \n",
       "min             4.300000          2.000000           1.000000   \n",
       "25%             5.100000          2.800000           1.600000   \n",
       "50%             5.800000          3.000000           4.350000   \n",
       "75%             6.400000          3.300000           5.100000   \n",
       "max             7.900000          4.400000           6.900000   \n",
       "\n",
       "       petal width (cm)  \n",
       "count        150.000000  \n",
       "mean           1.199333  \n",
       "std            0.762238  \n",
       "min            0.100000  \n",
       "25%            0.300000  \n",
       "50%            1.300000  \n",
       "75%            1.800000  \n",
       "max            2.500000  "
      ]
     },
     "execution_count": 12,
     "metadata": {},
     "output_type": "execute_result"
    }
   ],
   "source": [
    "data.describe()  # Generating summary statistics for the numerical columns in the DataFrame\n"
   ]
  },
  {
   "cell_type": "code",
   "execution_count": 13,
   "id": "29c22f16",
   "metadata": {},
   "outputs": [
    {
     "data": {
      "text/plain": [
       "species\n",
       "setosa        50\n",
       "versicolor    50\n",
       "virginica     50\n",
       "Name: count, dtype: int64"
      ]
     },
     "execution_count": 13,
     "metadata": {},
     "output_type": "execute_result"
    }
   ],
   "source": [
    "data['species'].value_counts()  # Counting the occurrences of each species in the 'species' column\n"
   ]
  },
  {
   "cell_type": "code",
   "execution_count": 14,
   "id": "9be1542e",
   "metadata": {},
   "outputs": [
    {
     "name": "stdout",
     "output_type": "stream",
     "text": [
      "sepal length (cm)     float64\n",
      "sepal width (cm)      float64\n",
      "petal length (cm)     float64\n",
      "petal width (cm)      float64\n",
      "species              category\n",
      "dtype: object\n"
     ]
    }
   ],
   "source": [
    "# Check the updated data types\n",
    "print(data.dtypes)\n"
   ]
  },
  {
   "cell_type": "markdown",
   "id": "4dc3f62f",
   "metadata": {},
   "source": [
    "# Data Preprocessing\n",
    "\n",
    "#### Summary:\n",
    "Data preprocessing is a vital step in preparing raw data for analysis and machine learning modeling. It involves transforming the data into a clean, standardized, and suitable format for further processing. This step is important because it enhances the quality of the data, ensuring that the machine learning algorithms can learn effectively and make accurate predictions.\n",
    "\n",
    "#### Importance:\n",
    "- **Data Cleaning**: Removes noise, handles missing values, and corrects inconsistencies.\n",
    "- **Feature Scaling**: Standardizes the range of independent variables or features, which improves model performance.\n",
    "- **Data Splitting**: Divides the data into training and testing sets to evaluate model performance.\n",
    "- **Enhancing Model Accuracy**: Proper preprocessing leads to better model accuracy and robustness.\n",
    "\n",
    "Standardizing and scaling data in machine learning ensures that features are on a similar scale, improving model performance, convergence speed, and the accuracy of algorithms."
   ]
  },
  {
   "cell_type": "code",
   "execution_count": 15,
   "id": "bf9a5305",
   "metadata": {},
   "outputs": [],
   "source": [
    "from sklearn.model_selection import train_test_split  # Importing function to split data into training and testing sets\n",
    "from sklearn.preprocessing import StandardScaler  # Importing StandardScaler for feature scaling\n"
   ]
  },
  {
   "cell_type": "code",
   "execution_count": 16,
   "id": "d539b48f",
   "metadata": {},
   "outputs": [],
   "source": [
    "# Split the dataset into training and testing sets\n",
    "X = data.drop('species', axis=1)  # Dropping the 'species' column to create feature set X\n",
    "y = data['species']  # Defining the target variable y as the 'species' column\n",
    "X_train, X_test, y_train, y_test = train_test_split(X, y, test_size=0.3, random_state=42)  # Splitting the data into training (70%) and testing (30%) sets\n"
   ]
  },
  {
   "cell_type": "markdown",
   "id": "24b63e52",
   "metadata": {},
   "source": [
    "Feature scaling is the process of standardizing the range of independent variables or features in the dataset. It ensures that no single feature dominates others due to differences in scale, improving the performance and convergence speed of machine learning algorithms.\n"
   ]
  },
  {
   "cell_type": "code",
   "execution_count": 17,
   "id": "179713e0",
   "metadata": {},
   "outputs": [],
   "source": [
    "# Scale the features\n",
    "scaler = StandardScaler()  # Creating a StandardScaler object for feature scaling\n",
    "X_train_scaled = scaler.fit_transform(X_train)  # Fitting the scaler to the training data and transforming it\n",
    "X_test_scaled = scaler.transform(X_test)  # Transforming the test data using the fitted scaler\n"
   ]
  },
  {
   "cell_type": "markdown",
   "id": "e4b57900",
   "metadata": {},
   "source": [
    "# 3. Model Training\n",
    "\n",
    "Model training in machine learning involves feeding a model data and allowing it to learn patterns and relationships within that data\n",
    "\n",
    "Logistic Regression is a binary classification algorithm that predicts the probability of an outcome between 0 and 1 using a logistic function. It estimates the relationship between variables by minimizing the log-loss cost function, making it useful and interpretable for classification tasks."
   ]
  },
  {
   "cell_type": "code",
   "execution_count": 18,
   "id": "ec7a173f",
   "metadata": {},
   "outputs": [],
   "source": [
    "from sklearn.linear_model import LogisticRegression  # Importing LogisticRegression for the classification model\n",
    "# LogisticRegression is a class in scikit-learn used for binary classification tasks.\n"
   ]
  },
  {
   "cell_type": "code",
   "execution_count": 19,
   "id": "05fa6ee9",
   "metadata": {},
   "outputs": [],
   "source": [
    "# Initialize the Logistic Regression model\n",
    "model = LogisticRegression(max_iter=200, solver='lbfgs', multi_class='multinomial', random_state=42)  \n",
    "# 'max_iter=200' sets the maximum number of iterations for the solver to converge.\n",
    "# 'solver='lbfgs'' specifies the optimization algorithm to use.\n",
    "# 'multi_class='multinomial'' indicates a multinomial logistic regression for multi-class classification.\n",
    "# 'random_state=42' sets the seed for random number generation to ensure reproducibility.\n"
   ]
  },
  {
   "cell_type": "markdown",
   "id": "62d9e7b4",
   "metadata": {},
   "source": [
    "# Creating a Logistic Regression model with the following parameters:\n",
    "- `max_iter=200`: Setting the maximum number of iterations for the solver to converge.\n",
    "- `solver='lbfgs'`: Using the 'lbfgs' solver which is efficient for multiclass problems.\n",
    "- `multi_class='multinomial'`: Using the multinomial loss function for multiclass classification.\n",
    "- `random_state=42`: Setting a random state for reproducibility.\n",
    "\n",
    "A solver in machine learning is a method used to find the best parameters for a model. In Logistic Regression, `solver='lbfgs'` is a specific method that helps efficiently find these parameters, especially for complex, multiclass problems. It's like using a specific tool to solve a math problem.\n"
   ]
  },
  {
   "cell_type": "markdown",
   "id": "5ff6c9a4",
   "metadata": {},
   "source": [
    "# Why Model Fitting is Needed\n",
    "Model fitting is the process of training a machine learning model on a dataset so that it can learn the relationships between the features (input variables) and the target (output variable). This is necessary because:"
   ]
  },
  {
   "cell_type": "code",
   "execution_count": 20,
   "id": "1fdf0a55",
   "metadata": {},
   "outputs": [
    {
     "data": {
      "text/html": [
       "<style>#sk-container-id-1 {color: black;}#sk-container-id-1 pre{padding: 0;}#sk-container-id-1 div.sk-toggleable {background-color: white;}#sk-container-id-1 label.sk-toggleable__label {cursor: pointer;display: block;width: 100%;margin-bottom: 0;padding: 0.3em;box-sizing: border-box;text-align: center;}#sk-container-id-1 label.sk-toggleable__label-arrow:before {content: \"▸\";float: left;margin-right: 0.25em;color: #696969;}#sk-container-id-1 label.sk-toggleable__label-arrow:hover:before {color: black;}#sk-container-id-1 div.sk-estimator:hover label.sk-toggleable__label-arrow:before {color: black;}#sk-container-id-1 div.sk-toggleable__content {max-height: 0;max-width: 0;overflow: hidden;text-align: left;background-color: #f0f8ff;}#sk-container-id-1 div.sk-toggleable__content pre {margin: 0.2em;color: black;border-radius: 0.25em;background-color: #f0f8ff;}#sk-container-id-1 input.sk-toggleable__control:checked~div.sk-toggleable__content {max-height: 200px;max-width: 100%;overflow: auto;}#sk-container-id-1 input.sk-toggleable__control:checked~label.sk-toggleable__label-arrow:before {content: \"▾\";}#sk-container-id-1 div.sk-estimator input.sk-toggleable__control:checked~label.sk-toggleable__label {background-color: #d4ebff;}#sk-container-id-1 div.sk-label input.sk-toggleable__control:checked~label.sk-toggleable__label {background-color: #d4ebff;}#sk-container-id-1 input.sk-hidden--visually {border: 0;clip: rect(1px 1px 1px 1px);clip: rect(1px, 1px, 1px, 1px);height: 1px;margin: -1px;overflow: hidden;padding: 0;position: absolute;width: 1px;}#sk-container-id-1 div.sk-estimator {font-family: monospace;background-color: #f0f8ff;border: 1px dotted black;border-radius: 0.25em;box-sizing: border-box;margin-bottom: 0.5em;}#sk-container-id-1 div.sk-estimator:hover {background-color: #d4ebff;}#sk-container-id-1 div.sk-parallel-item::after {content: \"\";width: 100%;border-bottom: 1px solid gray;flex-grow: 1;}#sk-container-id-1 div.sk-label:hover label.sk-toggleable__label {background-color: #d4ebff;}#sk-container-id-1 div.sk-serial::before {content: \"\";position: absolute;border-left: 1px solid gray;box-sizing: border-box;top: 0;bottom: 0;left: 50%;z-index: 0;}#sk-container-id-1 div.sk-serial {display: flex;flex-direction: column;align-items: center;background-color: white;padding-right: 0.2em;padding-left: 0.2em;position: relative;}#sk-container-id-1 div.sk-item {position: relative;z-index: 1;}#sk-container-id-1 div.sk-parallel {display: flex;align-items: stretch;justify-content: center;background-color: white;position: relative;}#sk-container-id-1 div.sk-item::before, #sk-container-id-1 div.sk-parallel-item::before {content: \"\";position: absolute;border-left: 1px solid gray;box-sizing: border-box;top: 0;bottom: 0;left: 50%;z-index: -1;}#sk-container-id-1 div.sk-parallel-item {display: flex;flex-direction: column;z-index: 1;position: relative;background-color: white;}#sk-container-id-1 div.sk-parallel-item:first-child::after {align-self: flex-end;width: 50%;}#sk-container-id-1 div.sk-parallel-item:last-child::after {align-self: flex-start;width: 50%;}#sk-container-id-1 div.sk-parallel-item:only-child::after {width: 0;}#sk-container-id-1 div.sk-dashed-wrapped {border: 1px dashed gray;margin: 0 0.4em 0.5em 0.4em;box-sizing: border-box;padding-bottom: 0.4em;background-color: white;}#sk-container-id-1 div.sk-label label {font-family: monospace;font-weight: bold;display: inline-block;line-height: 1.2em;}#sk-container-id-1 div.sk-label-container {text-align: center;}#sk-container-id-1 div.sk-container {/* jupyter's `normalize.less` sets `[hidden] { display: none; }` but bootstrap.min.css set `[hidden] { display: none !important; }` so we also need the `!important` here to be able to override the default hidden behavior on the sphinx rendered scikit-learn.org. See: https://github.com/scikit-learn/scikit-learn/issues/21755 */display: inline-block !important;position: relative;}#sk-container-id-1 div.sk-text-repr-fallback {display: none;}</style><div id=\"sk-container-id-1\" class=\"sk-top-container\"><div class=\"sk-text-repr-fallback\"><pre>LogisticRegression(max_iter=200, multi_class=&#x27;multinomial&#x27;, random_state=42)</pre><b>In a Jupyter environment, please rerun this cell to show the HTML representation or trust the notebook. <br />On GitHub, the HTML representation is unable to render, please try loading this page with nbviewer.org.</b></div><div class=\"sk-container\" hidden><div class=\"sk-item\"><div class=\"sk-estimator sk-toggleable\"><input class=\"sk-toggleable__control sk-hidden--visually\" id=\"sk-estimator-id-1\" type=\"checkbox\" checked><label for=\"sk-estimator-id-1\" class=\"sk-toggleable__label sk-toggleable__label-arrow\">LogisticRegression</label><div class=\"sk-toggleable__content\"><pre>LogisticRegression(max_iter=200, multi_class=&#x27;multinomial&#x27;, random_state=42)</pre></div></div></div></div></div>"
      ],
      "text/plain": [
       "LogisticRegression(max_iter=200, multi_class='multinomial', random_state=42)"
      ]
     },
     "execution_count": 20,
     "metadata": {},
     "output_type": "execute_result"
    }
   ],
   "source": [
    "# Train the model using the training data\n",
    "model.fit(X_train_scaled, y_train)  # Fitting the model to the scaled training data to learn the relationships"
   ]
  },
  {
   "cell_type": "markdown",
   "id": "4a4a7087",
   "metadata": {},
   "source": [
    "# Evaluate the model"
   ]
  },
  {
   "cell_type": "code",
   "execution_count": 21,
   "id": "7a309c8a",
   "metadata": {},
   "outputs": [],
   "source": [
    "# Predict the species for the test data\n",
    "y_pred = model.predict(X_test_scaled)  # Using the trained model to predict the species for the test set\n"
   ]
  },
  {
   "cell_type": "markdown",
   "id": "b0a76e30",
   "metadata": {},
   "source": [
    "# Understanding Evaluation Metrics\n",
    "\n",
    "## Precision, Recall, F1-Score, and Support\n",
    "\n",
    "- **Precision**: How often are the model's positive predictions correct?\n",
    "  - High precision means the model makes few mistakes when it predicts positive.\n",
    "  - Example: If the model says 10 flowers are setosa and 9 of them are actually setosa, precision is high.\n",
    "\n",
    "\n",
    "- **Recall**: How well does the model find all the actual positives?\n",
    "  - High recall means the model misses few real positives.\n",
    "  - Example: If there are 10 setosa flowers and the model finds 9 of them, recall is high.\n",
    "\n",
    "- **F1-Score**: How well does the model balance precision and recall?\n",
    "  - It's useful when you need a balance of both.\n",
    "  - Example: If you need both high precision and high recall, the F1-Score shows how well the model does on both.\n",
    "\n",
    "- **Support**: How many examples are there for each class in the dataset?\n",
    "  - It shows how many instances of each class you have.\n",
    "  - Example: If you have 50 setosa flowers, 50 is the support for the setosa class.\n",
    "\n",
    "## Accuracy\n",
    "- **Accuracy**: The ratio of correctly predicted instances to the total instances.\n",
    "  - High accuracy means the model predicts correctly most of the time.\n",
    "  - Example: If the model correctly predicts 95 out of 100 instances, accuracy is 95%.\n",
    "\n",
    "## Macro Average\n",
    "- **Macro Average**: The average of precision, recall, and F1-score calculated for each class independently, then averaged.\n",
    "  - It treats all classes equally, regardless of their support.\n",
    "  - Example: If you have three classes, the macro average precision is the average of the precision values for all three classes.\n",
    "\n",
    "## Weighted Average\n",
    "- **Weighted Average**: The average of precision, recall, and F1-score calculated for each class, weighted by the number of instances (support) of each class.\n",
    "  - It takes into account the imbalance in the dataset.\n",
    "  - Example: If one class is much larger than the others, the weighted average will give more importance to the performance on that class.\n",
    "\n",
    "## Why These Metrics Matter\n",
    "These metrics help you understand how well your model is performing:\n",
    "\n",
    "- **Precision**: Important when you need accurate positive predictions.\n",
    "- **Recall**: Important when you want to find all positive cases.\n",
    "- **F1-Score**: Important when you need a good balance between precision and recall.\n",
    "- **Support**: Helps you see how many examples of each class you have, giving context to the other metrics.\n",
    "- **Accuracy**: Gives an overall performance measure, useful for binary and balanced multiclass problems.\n",
    "- **Macro Average**: Important for evaluating performance equally across all classes.\n",
    "- **Weighted Average**: Important for reflecting the performance on the dataset as a whole, especially with class imbalance.\n",
    "\n",
    "Together, these metrics give a clear picture of your model's performance, especially in multiclass classification problems.\n",
    "\n"
   ]
  },
  {
   "cell_type": "code",
   "execution_count": 23,
   "id": "3094f980",
   "metadata": {},
   "outputs": [
    {
     "name": "stdout",
     "output_type": "stream",
     "text": [
      "Model Accuracy: 1.0\n",
      "Classification Report:\n",
      "               precision    recall  f1-score   support\n",
      "\n",
      "      setosa       1.00      1.00      1.00        19\n",
      "  versicolor       1.00      1.00      1.00        13\n",
      "   virginica       1.00      1.00      1.00        13\n",
      "\n",
      "    accuracy                           1.00        45\n",
      "   macro avg       1.00      1.00      1.00        45\n",
      "weighted avg       1.00      1.00      1.00        45\n",
      "\n"
     ]
    }
   ],
   "source": [
    "# Evaluate the model\n",
    "accuracy = accuracy_score(y_test, y_pred)  # Calculating the accuracy of the model\n",
    "classification_rep = classification_report(y_test, y_pred)  # Generating the classification report\n",
    "\n",
    "# Printing the evaluation results\n",
    "print(\"Model Accuracy:\", accuracy)  # Printing the accuracy of the model\n",
    "print(\"Classification Report:\\n\", classification_rep)  # Printing the classification report\n"
   ]
  },
  {
   "cell_type": "code",
   "execution_count": 25,
   "id": "fd5790ae",
   "metadata": {},
   "outputs": [
    {
     "data": {
      "image/png": "[encoded data removed]",
      "text/plain": [
       "<IPython.core.display.Image object>"
      ]
     },
     "metadata": {},
     "output_type": "display_data"
    }
   ],
   "source": [
    "from IPython.display import Image, display\n",
    "\n",
    "# Display the image\n",
    "image_path = \"636b93290271e592a8e8df9f_Python.png\"\n",
    "display(Image(filename=image_path))\n"
   ]
  },
  {
   "cell_type": "code",
   "execution_count": 21,
   "id": "bc800a77",
   "metadata": {},
   "outputs": [
    {
     "data": {
      "image/png": "[encoded data removed]",
      "text/plain": [
       "<Figure size 800x600 with 2 Axes>"
      ]
     },
     "metadata": {},
     "output_type": "display_data"
    }
   ],
   "source": [
    "# Visualize the confusion matrix with explicit annotations\n",
    "plt.figure(figsize=(8, 6))  # Setting the figure size\n",
    "sns.heatmap(conf_matrix, annot=True, fmt='d', cmap='Blues', xticklabels=iris.target_names, yticklabels=iris.target_names)  # Creating a heatmap with annotations\n",
    "plt.xlabel('Predicted')  # Labeling the x-axis\n",
    "plt.ylabel('Actual')  # Labeling the y-axis\n",
    "plt.title('Confusion Matrix')  # Adding a title to the plot\n",
    "\n",
    "# Explicitly annotate each cell with integer values\n",
    "for i in range(conf_matrix.shape[0]):\n",
    "    for j in range(conf_matrix.shape[1]):\n",
    "        plt.text(j + 0.5, i + 0.5, f'{conf_matrix[i, j]}', ha='center', va='center', color='black')  # Annotating each cell with its value\n",
    "\n",
    "plt.show()  # Displaying the plot\n"
   ]
  },
  {
   "cell_type": "code",
   "execution_count": 22,
   "id": "88859449",
   "metadata": {},
   "outputs": [
    {
     "name": "stdout",
     "output_type": "stream",
     "text": [
      "Model saved to logistic_regression_model.joblib\n",
      "Model loaded successfully\n"
     ]
    }
   ],
   "source": [
    "import joblib  # Importing joblib for saving and loading the model\n",
    "\n",
    "# Save the trained model to a file\n",
    "model_filename = 'logistic_regression_model.joblib'  # Defining the filename for the saved model\n",
    "joblib.dump(model, model_filename)  # Saving the model to the file\n",
    "print(f\"Model saved to {model_filename}\")  # Printing a confirmation message\n",
    "\n",
    "# Load the model from the file\n",
    "loaded_model = joblib.load(model_filename)  # Loading the model from the file\n",
    "print(\"Model loaded successfully\")  # Printing a confirmation message\n",
    "\n"
   ]
  },
  {
   "cell_type": "code",
   "execution_count": 25,
   "id": "77fe38e3",
   "metadata": {},
   "outputs": [
    {
     "name": "stdout",
     "output_type": "stream",
     "text": [
      "New data loaded successfully\n"
     ]
    },
    {
     "data": {
      "text/html": [
       "<div>\n",
       "<style scoped>\n",
       "    .dataframe tbody tr th:only-of-type {\n",
       "        vertical-align: middle;\n",
       "    }\n",
       "\n",
       "    .dataframe tbody tr th {\n",
       "        vertical-align: top;\n",
       "    }\n",
       "\n",
       "    .dataframe thead th {\n",
       "        text-align: right;\n",
       "    }\n",
       "</style>\n",
       "<table border=\"1\" class=\"dataframe\">\n",
       "  <thead>\n",
       "    <tr style=\"text-align: right;\">\n",
       "      <th></th>\n",
       "      <th>sepal length (cm)</th>\n",
       "      <th>sepal width (cm)</th>\n",
       "      <th>petal length (cm)</th>\n",
       "      <th>petal width (cm)</th>\n",
       "    </tr>\n",
       "  </thead>\n",
       "  <tbody>\n",
       "    <tr>\n",
       "      <th>0</th>\n",
       "      <td>5.1</td>\n",
       "      <td>3.5</td>\n",
       "      <td>1.4</td>\n",
       "      <td>0.2</td>\n",
       "    </tr>\n",
       "    <tr>\n",
       "      <th>1</th>\n",
       "      <td>6.5</td>\n",
       "      <td>3.0</td>\n",
       "      <td>5.2</td>\n",
       "      <td>2.0</td>\n",
       "    </tr>\n",
       "    <tr>\n",
       "      <th>2</th>\n",
       "      <td>5.9</td>\n",
       "      <td>3.0</td>\n",
       "      <td>5.1</td>\n",
       "      <td>1.8</td>\n",
       "    </tr>\n",
       "    <tr>\n",
       "      <th>3</th>\n",
       "      <td>4.7</td>\n",
       "      <td>3.2</td>\n",
       "      <td>1.3</td>\n",
       "      <td>0.2</td>\n",
       "    </tr>\n",
       "    <tr>\n",
       "      <th>4</th>\n",
       "      <td>7.0</td>\n",
       "      <td>3.2</td>\n",
       "      <td>4.7</td>\n",
       "      <td>1.4</td>\n",
       "    </tr>\n",
       "    <tr>\n",
       "      <th>5</th>\n",
       "      <td>6.3</td>\n",
       "      <td>3.3</td>\n",
       "      <td>6.0</td>\n",
       "      <td>2.5</td>\n",
       "    </tr>\n",
       "    <tr>\n",
       "      <th>6</th>\n",
       "      <td>5.8</td>\n",
       "      <td>2.7</td>\n",
       "      <td>5.1</td>\n",
       "      <td>1.9</td>\n",
       "    </tr>\n",
       "  </tbody>\n",
       "</table>\n",
       "</div>"
      ],
      "text/plain": [
       "   sepal length (cm)  sepal width (cm)  petal length (cm)  petal width (cm)\n",
       "0                5.1               3.5                1.4               0.2\n",
       "1                6.5               3.0                5.2               2.0\n",
       "2                5.9               3.0                5.1               1.8\n",
       "3                4.7               3.2                1.3               0.2\n",
       "4                7.0               3.2                4.7               1.4\n",
       "5                6.3               3.3                6.0               2.5\n",
       "6                5.8               2.7                5.1               1.9"
      ]
     },
     "execution_count": 25,
     "metadata": {},
     "output_type": "execute_result"
    }
   ],
   "source": [
    "# Load the new data\n",
    "new_data = pd.read_csv('new_data.csv')  # Loading new data from a CSV file\n",
    "print(\"New data loaded successfully\")  # Printing a confirmation message\n",
    "new_data  # Displaying the first few rows of the new data\n"
   ]
  },
  {
   "cell_type": "code",
   "execution_count": 26,
   "id": "67f492ef",
   "metadata": {},
   "outputs": [],
   "source": [
    "scaler = StandardScaler()\n",
    "scaler.fit(new_data)  # Fit the scaler on the new data\n",
    "new_data_scaled = scaler.transform(new_data)  # Transform the new data using the fitted scaler\n"
   ]
  },
  {
   "cell_type": "code",
   "execution_count": 27,
   "id": "129fae6b",
   "metadata": {},
   "outputs": [
    {
     "name": "stdout",
     "output_type": "stream",
     "text": [
      "Predictions for the new data:\n",
      "['setosa' 'virginica' 'versicolor' 'setosa' 'versicolor' 'virginica'\n",
      " 'virginica']\n"
     ]
    }
   ],
   "source": [
    "# Predict the species for the new data using the loaded model\n",
    "new_predictions = loaded_model.predict(new_data_scaled)  # Using the loaded model to predict the species for the new data\n",
    "\n",
    "# Print the predictions\n",
    "print(\"Predictions for the new data:\")\n",
    "print(new_predictions)  # Displaying the predictions for the new data\n"
   ]
  },
  {
   "cell_type": "code",
   "execution_count": null,
   "id": "357951f0",
   "metadata": {},
   "outputs": [],
   "source": []
  }
 ],
 "metadata": {
  "kernelspec": {
   "display_name": "Python 3 (ipykernel)",
   "language": "python",
   "name": "python3"
  },
  "language_info": {
   "codemirror_mode": {
    "name": "ipython",
    "version": 3
   },
   "file_extension": ".py",
   "mimetype": "text/x-python",
   "name": "python",
   "nbconvert_exporter": "python",
   "pygments_lexer": "ipython3",
   "version": "3.11.5"
  }
 },
 "nbformat": 4,
 "nbformat_minor": 5
}
